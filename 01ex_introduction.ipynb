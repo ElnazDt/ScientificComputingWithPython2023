{
  "cells": [
    {
      "cell_type": "markdown",
      "metadata": {
        "id": "bvqawZO2lymd"
      },
      "source": [
        "You can solve these exercises in the room or at home. For this week, and the next 3 weeks, exercises have to be solved by creating a single dedicated `.py` file called `01ex_introduction.py`.\n",
        "\n",
        "You can divide the individual exercises in the source code with appropriate comments (`#`).\n",
        "\n",
        "The exercises need to run without errors with `python3 01ex_introduction.py`."
      ]
    },
    {
      "cell_type": "markdown",
      "metadata": {
        "id": "pjPTpSNGlymh"
      },
      "source": [
        "1\\. **The HelloWorld replacement**\n",
        "\n",
        "a) Write a program that:\n",
        "- prints the numbers from 1 to 100\n",
        "- but for multiples of three print \"`Hello`\" instead of the number and for the multiples of five print \"`World`\"\n",
        "- for numbers which are multiples of both three and five print \"`HelloWorld`\".\n",
        "\n",
        "b) Put the result in a tuple and substitute \"`Hello`\" with \"`Python`\" and \"`World`\" with \"`Works`\"."
      ]
    },
    {
      "cell_type": "code",
      "source": [
        "my_list=['Hello World' if x%15==0 else 'Hello' if x%3==0   else 'World' if x%5==0 else  x for x in range(1, 101)]\n",
        "print (my_list)\n",
        "\n",
        "my_list_replaced = ['Python' if x=='Hello' else \"Works\" if x==\"World\" else x for x in my_list ]\n",
        "\n",
        "my_tuple = tuple(my_list_replaced);\n",
        "print(my_tuple)"
      ],
      "metadata": {
        "colab": {
          "base_uri": "https://localhost:8080/"
        },
        "id": "0OsWB6u3C2c1",
        "outputId": "ff0167c3-3c82-4bbf-b39e-d275f5f89ee3"
      },
      "execution_count": null,
      "outputs": [
        {
          "output_type": "stream",
          "name": "stdout",
          "text": [
            "[1, 2, 'Hello', 4, 'World', 'Hello', 7, 8, 'Hello', 'World', 11, 'Hello', 13, 14, 'Hello World', 16, 17, 'Hello', 19, 'World', 'Hello', 22, 23, 'Hello', 'World', 26, 'Hello', 28, 29, 'Hello World', 31, 32, 'Hello', 34, 'World', 'Hello', 37, 38, 'Hello', 'World', 41, 'Hello', 43, 44, 'Hello World', 46, 47, 'Hello', 49, 'World', 'Hello', 52, 53, 'Hello', 'World', 56, 'Hello', 58, 59, 'Hello World', 61, 62, 'Hello', 64, 'World', 'Hello', 67, 68, 'Hello', 'World', 71, 'Hello', 73, 74, 'Hello World', 76, 77, 'Hello', 79, 'World', 'Hello', 82, 83, 'Hello', 'World', 86, 'Hello', 88, 89, 'Hello World', 91, 92, 'Hello', 94, 'World', 'Hello', 97, 98, 'Hello', 'World']\n",
            "(1, 2, 'Python', 4, 'Works', 'Python', 7, 8, 'Python', 'Works', 11, 'Python', 13, 14, 'Hello World', 16, 17, 'Python', 19, 'Works', 'Python', 22, 23, 'Python', 'Works', 26, 'Python', 28, 29, 'Hello World', 31, 32, 'Python', 34, 'Works', 'Python', 37, 38, 'Python', 'Works', 41, 'Python', 43, 44, 'Hello World', 46, 47, 'Python', 49, 'Works', 'Python', 52, 53, 'Python', 'Works', 56, 'Python', 58, 59, 'Hello World', 61, 62, 'Python', 64, 'Works', 'Python', 67, 68, 'Python', 'Works', 71, 'Python', 73, 74, 'Hello World', 76, 77, 'Python', 79, 'Works', 'Python', 82, 83, 'Python', 'Works', 86, 'Python', 88, 89, 'Hello World', 91, 92, 'Python', 94, 'Works', 'Python', 97, 98, 'Python', 'Works')\n"
          ]
        }
      ]
    },
    {
      "cell_type": "markdown",
      "metadata": {
        "id": "bVVYyPqAlymi"
      },
      "source": [
        "2\\. **The swap**\n",
        "\n",
        "Write a program that swaps the values of two input variables `x` and `y` from command line (whatever the type).\n",
        "\n",
        "Try to do that without using a temporary variable, exploiting the Python syntax."
      ]
    },
    {
      "cell_type": "code",
      "source": [
        "x, y = 5, 'b'\n",
        "print('x =', x, 'y =', y)\n",
        "a = x\n",
        "x = y\n",
        "y = a\n",
        "print('x =', x, 'y =', y)\n"
      ],
      "metadata": {
        "colab": {
          "base_uri": "https://localhost:8080/"
        },
        "id": "ATMiqJ6lOqVS",
        "outputId": "7340db64-de94-45fe-add0-0d38bc61640b"
      },
      "execution_count": null,
      "outputs": [
        {
          "output_type": "stream",
          "name": "stdout",
          "text": [
            "x = 5 y = b\n",
            "x = b y = 5\n"
          ]
        }
      ]
    },
    {
      "cell_type": "markdown",
      "metadata": {
        "id": "fK8Fz9Vslymj"
      },
      "source": [
        "3\\. **Computing the distance**\n",
        "\n",
        "Write a program that calculates and prints the euclidean distance between two given points $u$ and $v$ in a 2D space, where $u$ and $v$ are both 2-tuples $(x,y)$.\n",
        "\n",
        "Example: if $u=(3,0)$ and $v=(0,4)$, the function should return $5$.\n",
        "\n",
        "*Hint:* in order to compute the square root, import the `math` library with `import math` and use `math.sqrt()`."
      ]
    },
    {
      "cell_type": "code",
      "source": [
        "import math\n",
        "x, y, z, w = input(\"Set the value of x: \"), input(\"Set the value of y: \"), input(\"Set the value of z: \"), input(\"Set the value of w: \")\n",
        "u = (int(x),int(y))\n",
        "v = (int(z),int(w))\n",
        "a = ((v[0]-u[0])**2)+((v[1]-u[1])**2)\n",
        "Ed = math.sqrt(a)\n",
        "print (Ed)"
      ],
      "metadata": {
        "colab": {
          "base_uri": "https://localhost:8080/"
        },
        "id": "JDBA4pZ6Pgr7",
        "outputId": "37574c7b-cbec-43d7-d947-ae889921236d"
      },
      "execution_count": null,
      "outputs": [
        {
          "output_type": "stream",
          "name": "stdout",
          "text": [
            "Set the value of x: 3\n",
            "Set the value of y: 0\n",
            "Set the value of z: 0\n",
            "Set the value of w: 4\n",
            "5.0\n"
          ]
        }
      ]
    },
    {
      "cell_type": "markdown",
      "metadata": {
        "id": "6rcaBYeylymj"
      },
      "source": [
        "4\\. **Counting letters**\n",
        "\n",
        "Write a program that calculates the number of times each character occurs in a given string. Ignore differences in capitalization.\n",
        "\n",
        "The test strings are:"
      ]
    },
    {
      "cell_type": "code",
      "execution_count": null,
      "metadata": {
        "id": "1k1G7XEllymk"
      },
      "outputs": [],
      "source": [
        "s1 = \"Write a program that prints the numbers from 1 to 100. \\\n",
        "But for multiples of three print Hello instead of the number and for the multiples of five print World. \\\n",
        "For numbers which are multiples of both three and five print HelloWorld.\"\n",
        "s2 = \"The quick brown fox jumps over the lazy dog\""
      ]
    },
    {
      "cell_type": "code",
      "source": [
        "s1 = s1.lower()\n",
        "dict= {}\n",
        "for char in list(s1):\n",
        "  if(char not in dict.keys()):\n",
        "    dict[char] = 1\n",
        "  else:\n",
        "    dict[char] =dict[char]+1\n",
        "print (dict)"
      ],
      "metadata": {
        "colab": {
          "base_uri": "https://localhost:8080/"
        },
        "id": "CzCj8QO-WVPM",
        "outputId": "1d315f99-7b39-4154-db22-bf5a81dbe2d6"
      },
      "execution_count": null,
      "outputs": [
        {
          "output_type": "stream",
          "name": "stdout",
          "text": [
            "{'w': 4, 'r': 19, 'i': 12, 't': 19, 'e': 20, ' ': 41, 'a': 7, 'p': 8, 'o': 15, 'g': 1, 'm': 8, 'h': 11, 'n': 10, 's': 7, 'u': 7, 'b': 5, 'f': 10, '1': 2, '0': 2, '.': 3, 'l': 12, 'd': 5, 'v': 2, 'c': 1}\n"
          ]
        }
      ]
    },
    {
      "cell_type": "code",
      "source": [
        "s2 = s2.lower()\n",
        "dict= {}\n",
        "for char in list(s2):\n",
        "  if(char not in dict.keys()):\n",
        "    dict[char] = 1\n",
        "  else:\n",
        "    dict[char] = dict[char]+1\n",
        "\n",
        "print (dict)"
      ],
      "metadata": {
        "colab": {
          "base_uri": "https://localhost:8080/"
        },
        "id": "6rsCMI7_AqW_",
        "outputId": "276c7766-6a93-445f-afa1-252490157753"
      },
      "execution_count": null,
      "outputs": [
        {
          "output_type": "stream",
          "name": "stdout",
          "text": [
            "{'t': 2, 'h': 2, 'e': 3, ' ': 8, 'q': 1, 'u': 2, 'i': 1, 'c': 1, 'k': 1, 'b': 1, 'r': 2, 'o': 4, 'w': 1, 'n': 1, 'f': 1, 'x': 1, 'j': 1, 'm': 1, 'p': 1, 's': 1, 'v': 1, 'l': 1, 'a': 1, 'z': 1, 'y': 1, 'd': 1, 'g': 1}\n"
          ]
        }
      ]
    },
    {
      "cell_type": "markdown",
      "metadata": {
        "id": "rieXaB6Hlyml"
      },
      "source": [
        "5\\. **Isolating the unique**\n",
        "\n",
        "Write a program that determines and counts the unique numbers (numbers with only one occurrence) in the list:"
      ]
    },
    {
      "cell_type": "code",
      "execution_count": null,
      "metadata": {
        "id": "3XUGs8aTlyml"
      },
      "outputs": [],
      "source": [
        "l = [36, 45, 58, 3, 74, 96, 64, 45, 31, 10, 24, 19, 33, 86, 99, 18, 63, 70, 85,\n",
        " 85, 63, 47, 56, 42, 70, 84, 88, 55, 20, 54, 8, 56, 51, 79, 81, 57, 37, 91,\n",
        " 1, 84, 84, 36, 66, 9, 89, 50, 42, 91, 50, 95, 90, 98, 39, 16, 82, 31, 92, 41,\n",
        " 45, 30, 66, 70, 34, 85, 94, 5, 3, 36, 72, 91, 84, 34, 87, 75, 53, 51, 20, 89, 51, 20]"
      ]
    },
    {
      "cell_type": "code",
      "source": [
        "for i in l:\n",
        "  if l.count(i)>1:\n",
        "   l.remove(i)\n",
        "\n",
        "print(len(l))"
      ],
      "metadata": {
        "colab": {
          "base_uri": "https://localhost:8080/"
        },
        "id": "gfT_RE8QBtFH",
        "outputId": "097d8e55-5ebc-466f-a045-fd7367fddcfd"
      },
      "execution_count": null,
      "outputs": [
        {
          "output_type": "stream",
          "name": "stdout",
          "text": [
            "58\n"
          ]
        }
      ]
    },
    {
      "cell_type": "markdown",
      "metadata": {
        "id": "klRpG_nYlymm"
      },
      "source": [
        "Do the same exploiting only the Python data structures."
      ]
    },
    {
      "cell_type": "markdown",
      "metadata": {
        "id": "2fzXedCalymm"
      },
      "source": [
        "6\\. **Casting**\n",
        "\n",
        "Write a program that:\n",
        "* reads from command line two variables, that can be either `int`, `float`, or `str`.\n",
        "* use the `try`/`except` expressions to perform the addition of these two variables, only if possible\n",
        "* print the result without making the code crash for all the `int`/`float`/`str` input combinations."
      ]
    },
    {
      "cell_type": "code",
      "source": [
        "x = input(\"enter x: \")\n",
        "y = input(\"enter y: \")\n",
        "try:\n",
        "  x=float(x)\n",
        "  y=float(x)\n",
        "  print(x+y);\n",
        "except:\n",
        "  print('one or both of the inputs are not numbers.')\n"
      ],
      "metadata": {
        "colab": {
          "base_uri": "https://localhost:8080/"
        },
        "id": "nvICA43REQHQ",
        "outputId": "c792175e-76c6-4f07-a1d6-bd4208e76796"
      },
      "execution_count": 4,
      "outputs": [
        {
          "output_type": "stream",
          "name": "stdout",
          "text": [
            "enter x: 2.6\n",
            "enter y: 4\n",
            "5.2\n"
          ]
        }
      ]
    },
    {
      "cell_type": "markdown",
      "metadata": {
        "id": "GnncUOJYlymm"
      },
      "source": [
        "7\\. **Cubes**\n",
        "\n",
        "Create a list of the cubes of *x* for *x* in *[0, 10]* using:\n",
        "\n",
        "a) a for loop\n",
        "\n",
        "b) a list comprehension"
      ]
    },
    {
      "cell_type": "code",
      "source": [
        "# FOR LOOP\n",
        "a_list=[]\n",
        "for x in range(11):\n",
        "  x=x**2\n",
        "  a_list.append(x)\n",
        "print (a_list)"
      ],
      "metadata": {
        "colab": {
          "base_uri": "https://localhost:8080/"
        },
        "id": "EP6h44wTN3NY",
        "outputId": "d981bc30-37ea-473a-c727-3bce39a0c3fd"
      },
      "execution_count": null,
      "outputs": [
        {
          "output_type": "stream",
          "name": "stdout",
          "text": [
            "[0, 1, 4, 9, 16, 25, 36, 49, 64, 81, 100]\n"
          ]
        }
      ]
    },
    {
      "cell_type": "code",
      "source": [
        "#LIST COMPREHENSION\n",
        "b_list=[x**2 for x in range(11)]\n",
        "print(b_list)"
      ],
      "metadata": {
        "colab": {
          "base_uri": "https://localhost:8080/"
        },
        "id": "LirfMPhOQJyj",
        "outputId": "b6b1274a-c422-4172-df39-feeed8de6ee9"
      },
      "execution_count": null,
      "outputs": [
        {
          "output_type": "stream",
          "name": "stdout",
          "text": [
            "[0, 1, 4, 9, 16, 25, 36, 49, 64, 81, 100]\n"
          ]
        }
      ]
    },
    {
      "cell_type": "markdown",
      "metadata": {
        "id": "TuMnBA_hlymn"
      },
      "source": [
        "8\\. **List comprehension**\n",
        "\n",
        "Write, using the list comprehension, a single-line expression that gets the same result as the code in the cell below."
      ]
    },
    {
      "cell_type": "code",
      "execution_count": null,
      "metadata": {
        "id": "k7sywWzWlymn",
        "colab": {
          "base_uri": "https://localhost:8080/"
        },
        "outputId": "bf99d346-c2aa-448b-e246-6962ae5b42dd"
      },
      "outputs": [
        {
          "output_type": "stream",
          "name": "stdout",
          "text": [
            "[(0, 0), (0, 1), (0, 2), (0, 3), (1, 0), (1, 1), (1, 2), (1, 3), (2, 0), (2, 1), (2, 2), (2, 3)]\n"
          ]
        }
      ],
      "source": [
        "a = []\n",
        "for i in range(3):\n",
        "    for j in range(4):\n",
        "        a.append((i, j))\n",
        "print(a)"
      ]
    },
    {
      "cell_type": "code",
      "source": [
        "b = [(x,y) for x in range(3) for y in range(4)]\n",
        "print(b)"
      ],
      "metadata": {
        "colab": {
          "base_uri": "https://localhost:8080/"
        },
        "id": "G_DkJCKcRIaV",
        "outputId": "a4c9a1e9-be6a-43ef-81e5-91a699df7352"
      },
      "execution_count": null,
      "outputs": [
        {
          "output_type": "stream",
          "name": "stdout",
          "text": [
            "[(0, 0), (0, 1), (0, 2), (0, 3), (1, 0), (1, 1), (1, 2), (1, 3), (2, 0), (2, 1), (2, 2), (2, 3)]\n"
          ]
        }
      ]
    },
    {
      "cell_type": "markdown",
      "metadata": {
        "id": "B3YRYEUBlymo"
      },
      "source": [
        "9\\. **Nested list comprehension**\n",
        "\n",
        "> A Pythagorean triple is an integer solution to the Pythagorean theorem $a^2+b^2=c^2$. The first Pythagorean triple is (3, 4, 5).\n",
        "\n",
        "Find and put in a tuple all unique Pythagorean triples for the positive integers $a$, $b$ and $c$ with $c < 100$."
      ]
    },
    {
      "cell_type": "code",
      "source": [
        "l=[(a, b, c) for c in range(1,100) for b in range(1,100) for a in range(1,100) if a**2 + b**2 == c**2]\n",
        "print(l)"
      ],
      "metadata": {
        "colab": {
          "base_uri": "https://localhost:8080/"
        },
        "id": "vtJXvRjXRusJ",
        "outputId": "3626bdf2-0271-4379-fac1-83fc99035f55"
      },
      "execution_count": null,
      "outputs": [
        {
          "output_type": "stream",
          "name": "stdout",
          "text": [
            "[(4, 3, 5), (3, 4, 5), (8, 6, 10), (6, 8, 10), (12, 5, 13), (5, 12, 13), (12, 9, 15), (9, 12, 15), (15, 8, 17), (8, 15, 17), (16, 12, 20), (12, 16, 20), (24, 7, 25), (20, 15, 25), (15, 20, 25), (7, 24, 25), (24, 10, 26), (10, 24, 26), (21, 20, 29), (20, 21, 29), (24, 18, 30), (18, 24, 30), (30, 16, 34), (16, 30, 34), (28, 21, 35), (21, 28, 35), (35, 12, 37), (12, 35, 37), (36, 15, 39), (15, 36, 39), (32, 24, 40), (24, 32, 40), (40, 9, 41), (9, 40, 41), (36, 27, 45), (27, 36, 45), (48, 14, 50), (40, 30, 50), (30, 40, 50), (14, 48, 50), (45, 24, 51), (24, 45, 51), (48, 20, 52), (20, 48, 52), (45, 28, 53), (28, 45, 53), (44, 33, 55), (33, 44, 55), (42, 40, 58), (40, 42, 58), (48, 36, 60), (36, 48, 60), (60, 11, 61), (11, 60, 61), (63, 16, 65), (60, 25, 65), (56, 33, 65), (52, 39, 65), (39, 52, 65), (33, 56, 65), (25, 60, 65), (16, 63, 65), (60, 32, 68), (32, 60, 68), (56, 42, 70), (42, 56, 70), (55, 48, 73), (48, 55, 73), (70, 24, 74), (24, 70, 74), (72, 21, 75), (60, 45, 75), (45, 60, 75), (21, 72, 75), (72, 30, 78), (30, 72, 78), (64, 48, 80), (48, 64, 80), (80, 18, 82), (18, 80, 82), (84, 13, 85), (77, 36, 85), (75, 40, 85), (68, 51, 85), (51, 68, 85), (40, 75, 85), (36, 77, 85), (13, 84, 85), (63, 60, 87), (60, 63, 87), (80, 39, 89), (39, 80, 89), (72, 54, 90), (54, 72, 90), (84, 35, 91), (35, 84, 91), (76, 57, 95), (57, 76, 95), (72, 65, 97), (65, 72, 97)]\n"
          ]
        }
      ]
    },
    {
      "cell_type": "markdown",
      "metadata": {
        "id": "xjFF52txlymo"
      },
      "source": [
        "10\\. **Normalization of a N-dimensional vector**\n",
        "\n",
        "Write a program that takes an N-dimensional vector, e.g. a variable-length tuple of numbers, and normalizes it to one (in such a way that the squared sum of all the entries is equal to 1)."
      ]
    },
    {
      "cell_type": "code",
      "source": [
        "import math\n",
        "a= (1.22,4.5,5,6,5.6)\n",
        "\n",
        "a_normalized = [x/math.sqrt(sum([x**2 for x in list(a)])) for x in list(a)]\n",
        "print(a_normalized)\n",
        "\n",
        "#test:\n",
        "z=0\n",
        "for j in a_normalized:\n",
        "  z+= j*j\n",
        "\n",
        "print(z)"
      ],
      "metadata": {
        "id": "TV-T96kXaGHH",
        "colab": {
          "base_uri": "https://localhost:8080/"
        },
        "outputId": "a6bf4aab-109f-49e0-d6c0-097375709914"
      },
      "execution_count": 12,
      "outputs": [
        {
          "output_type": "stream",
          "name": "stdout",
          "text": [
            "[0.11421418720647881, 0.4212818380566841, 0.4680909311740935, 0.5617091174089122, 0.5242618429149847]\n",
            "0.9999999999999998\n"
          ]
        }
      ]
    },
    {
      "cell_type": "markdown",
      "metadata": {
        "id": "OswBajjRlymo"
      },
      "source": [
        "11\\. **The Fibonacci sequence**\n",
        "\n",
        "Calculate the first 20 numbers of the [Fibonacci sequence](https://en.wikipedia.org/wiki/Fibonacci_number) using only `for` or `while` loops."
      ]
    },
    {
      "cell_type": "code",
      "source": [
        "num = 20\n",
        "n1, n2 = 0, 1\n",
        "fi_list=[n1, n2]\n",
        "\n",
        "for i in range(2, num):\n",
        "    n3 = n1 + n2\n",
        "    n1 = n2\n",
        "    n2 = n3\n",
        "    fi_list.append(n3)\n",
        "\n",
        "print(\"Fibonacci Series:\", fi_list)"
      ],
      "metadata": {
        "colab": {
          "base_uri": "https://localhost:8080/"
        },
        "id": "ZB_UGAGQeHDj",
        "outputId": "506b0ca6-c833-403b-d1d9-57c6ebcd0322"
      },
      "execution_count": null,
      "outputs": [
        {
          "output_type": "stream",
          "name": "stdout",
          "text": [
            "Fibonacci Series: [0, 1, 1, 2, 3, 5, 8, 13, 21, 34, 55, 89, 144, 233, 377, 610, 987, 1597, 2584, 4181]\n"
          ]
        }
      ]
    }
  ],
  "metadata": {
    "kernelspec": {
      "display_name": "Python 3 (ipykernel)",
      "language": "python",
      "name": "python3"
    },
    "language_info": {
      "codemirror_mode": {
        "name": "ipython",
        "version": 3
      },
      "file_extension": ".py",
      "mimetype": "text/x-python",
      "name": "python",
      "nbconvert_exporter": "python",
      "pygments_lexer": "ipython3",
      "version": "3.10.12"
    },
    "colab": {
      "provenance": []
    }
  },
  "nbformat": 4,
  "nbformat_minor": 0
}