{
  "cells": [
    {
      "cell_type": "markdown",
      "metadata": {
        "id": "wTnyDkz4qAxS"
      },
      "source": [
        "You can solve these exercises in the room or at home. For this week, and the next 3 weeks, exercises have to be solved by creating a single dedicated `.py` file called `02ex_fundamentals.py`.\n",
        "\n",
        "You can divide the individual exercises in the source code with appropriate comments (`#`).\n",
        "\n",
        "The exercises need to run without errors with `python3 02ex_fundamentals.py`."
      ]
    },
    {
      "cell_type": "markdown",
      "metadata": {
        "id": "o6iYe78xqAxa"
      },
      "source": [
        "1\\. **Global variables**\n",
        "\n",
        "Convert the function $f$ into a function that doesn't use global variables and that does not modify the original list"
      ]
    },
    {
      "cell_type": "code",
      "execution_count": 2,
      "metadata": {
        "id": "0b_FSw3lqAxb",
        "colab": {
          "base_uri": "https://localhost:8080/"
        },
        "outputId": "2932e509-c339-48f8-a853-df1fb0bfd26a"
      },
      "outputs": [
        {
          "output_type": "stream",
          "name": "stdout",
          "text": [
            "[1, 2, 3, 0, 1, 2, 3, 4]\n",
            "[1, 2, 3, 0, 1, 2, 3, 4]\n"
          ]
        }
      ],
      "source": [
        "x = 5\n",
        "\n",
        "def f(alist):\n",
        "    for i in range(x):\n",
        "        alist.append(i)\n",
        "    return alist\n",
        "\n",
        "alist = [1, 2, 3]\n",
        "ans = f(alist)\n",
        "print(ans)\n",
        "print(alist) # alist has been changed"
      ]
    },
    {
      "cell_type": "code",
      "source": [
        "import copy\n",
        "\n",
        "def f(alist):\n",
        "    x = 5\n",
        "    listCopy = copy.deepcopy(alist)\n",
        "    for i in range(x):\n",
        "        listCopy.append(i)\n",
        "    return listCopy\n",
        "\n",
        "alist = [1, 2, 3]\n",
        "ans = f(alist)\n",
        "print(ans)\n",
        "print(alist) # alist has not been changed"
      ],
      "metadata": {
        "colab": {
          "base_uri": "https://localhost:8080/"
        },
        "id": "gbLOOhOrIvin",
        "outputId": "011addc6-ce8c-456b-fee4-f671bae2813e"
      },
      "execution_count": 3,
      "outputs": [
        {
          "output_type": "stream",
          "name": "stdout",
          "text": [
            "[1, 2, 3, 0, 1, 2, 3, 4]\n",
            "[1, 2, 3]\n"
          ]
        }
      ]
    },
    {
      "cell_type": "markdown",
      "metadata": {
        "id": "qe0UA4pDqAxe"
      },
      "source": [
        "2\\. **List comprehension**\n",
        "\n",
        "Write the following expression using a list comprehension:\n",
        "\n",
        "`ans = list(map(lambda x: x * x, filter(lambda x: x % 2 == 1, range(10))))`"
      ]
    },
    {
      "cell_type": "code",
      "source": [
        "ans = list(map(lambda x: x * x, filter(lambda x: x % 2 == 1, range(10))))\n",
        "newlist = [ x * x for x in range(10) if x%2==1]\n",
        "print(ans)\n",
        "print(newlist)"
      ],
      "metadata": {
        "colab": {
          "base_uri": "https://localhost:8080/"
        },
        "id": "lfqJ1qiEKb2C",
        "outputId": "1e15d214-0bce-4e61-c8ae-d01b2a6f432d"
      },
      "execution_count": 3,
      "outputs": [
        {
          "output_type": "stream",
          "name": "stdout",
          "text": [
            "[1, 9, 25, 49, 81]\n",
            "[1, 9, 25, 49, 81]\n"
          ]
        }
      ]
    },
    {
      "cell_type": "markdown",
      "metadata": {
        "id": "6ejh-wboqAxe"
      },
      "source": [
        "3\\. **Filter list**\n",
        "\n",
        "Using the `filter()` hof, define a function that takes a list of words and an integer `n` as arguments, and returns a list of words that are shorter than `n`."
      ]
    },
    {
      "cell_type": "code",
      "source": [
        "def getShorterThanN(alist,n):\n",
        "  return list(filter(lambda x: len(list(x))< n, alist))\n",
        "blist = ['elnaz','bmw','benz','mazda','audi']\n",
        "\n",
        "print('The filtered letters are:',getShorterThanN(blist,5))\n"
      ],
      "metadata": {
        "colab": {
          "base_uri": "https://localhost:8080/"
        },
        "id": "KEKMVwmwMHov",
        "outputId": "832b9aa4-96fe-4490-e0e0-f6a703e65913"
      },
      "execution_count": 22,
      "outputs": [
        {
          "output_type": "stream",
          "name": "stdout",
          "text": [
            "The filtered letters are: ['bmw', 'benz', 'audi']\n"
          ]
        }
      ]
    },
    {
      "cell_type": "markdown",
      "metadata": {
        "id": "2zsKMw-vqAxf"
      },
      "source": [
        "4\\. **Map dictionary**\n",
        "\n",
        "\n",
        "Consider the following dictionary:\n",
        "\n",
        "`lang = {\"Python\" : 3, \"Java\" : '', \"Cplusplus\" : 'test', \"Php\" : 0.7}`\n",
        "\n",
        "Write a function that takes the above dictionary and uses the `map()` higher order function to return a list that contains the length of the keys of the dictionary."
      ]
    },
    {
      "cell_type": "code",
      "source": [
        "lang = {\"Python\" : 3, \"Java\" : '', \"Cplusplus\" : 'test', \"Php\" : 0.7}\n",
        "result = list(map(lambda k: len(list(k)), lang.keys()))\n",
        "print(result)"
      ],
      "metadata": {
        "colab": {
          "base_uri": "https://localhost:8080/"
        },
        "id": "znhkISk_QUS-",
        "outputId": "efa3e69a-4a24-4978-c2df-1c8a5c65538d"
      },
      "execution_count": 25,
      "outputs": [
        {
          "output_type": "stream",
          "name": "stdout",
          "text": [
            "[6, 4, 9, 3]\n"
          ]
        }
      ]
    },
    {
      "cell_type": "markdown",
      "metadata": {
        "id": "aYGP2wH9qAxg"
      },
      "source": [
        "5\\. **Lambda functions**\n",
        "\n",
        "Write a Python program that sorts the following list of tuples using a lambda function, according to the alphabetical order of the first element of the tuple:\n",
        "\n",
        "`language_scores = [('Python', 97), ('Cplusplus', 81), ('Php', 45), ('Java', 32)]`\n",
        "\n",
        "*Hint*: use the method `sort()` and its argument `key` of the `list` data structure."
      ]
    },
    {
      "cell_type": "code",
      "source": [
        "def myFunc(e):\n",
        "  return e[0]\n",
        "\n",
        "language_scores = [('Python', 97), ('Cplusplus', 81), ('Php', 45), ('Java', 32)]\n",
        "\n",
        "language_scores.sort(key=myFunc)\n",
        "print(language_scores)"
      ],
      "metadata": {
        "colab": {
          "base_uri": "https://localhost:8080/"
        },
        "id": "tT7RVSBXSZJq",
        "outputId": "d4d784c3-f826-4372-8a63-fa434fcf336f"
      },
      "execution_count": 26,
      "outputs": [
        {
          "output_type": "stream",
          "name": "stdout",
          "text": [
            "[('Cplusplus', 81), ('Java', 32), ('Php', 45), ('Python', 97)]\n"
          ]
        }
      ]
    },
    {
      "cell_type": "markdown",
      "metadata": {
        "id": "6-bKRBxcqAxh"
      },
      "source": [
        "6\\. **Nested functions**\n",
        "\n",
        "Write two functions: one that returns the square of a number, and one that returns its cube.\n",
        "\n",
        "Then, write a third function that returns the number raised to the 6th power, using only the two previous functions."
      ]
    },
    {
      "cell_type": "code",
      "source": [
        "def square(x):\n",
        "  return x*x\n",
        "\n",
        "def cube(x):\n",
        "  return x*x*x\n",
        "\n",
        "def sixth(x):\n",
        "  return square(cube(x))\n",
        "\n",
        "print(sixth(2))\n"
      ],
      "metadata": {
        "colab": {
          "base_uri": "https://localhost:8080/"
        },
        "id": "9DR8lLJsTSt6",
        "outputId": "43a5de7e-dcbc-4c7e-c695-4a2ecde15b25"
      },
      "execution_count": 27,
      "outputs": [
        {
          "output_type": "stream",
          "name": "stdout",
          "text": [
            "64\n"
          ]
        }
      ]
    },
    {
      "cell_type": "markdown",
      "metadata": {
        "id": "75BNi8pkqAxh"
      },
      "source": [
        "7\\. **Decorators**\n",
        "\n",
        "Write a decorator named `hello` that makes every wrapped function print “Hello World!” each time the function is called.\n",
        "\n",
        "The wrapped function should look like:\n",
        "\n",
        "```python\n",
        "@hello\n",
        "def square(x):\n",
        "    return x*x\n",
        "```"
      ]
    },
    {
      "cell_type": "code",
      "source": [
        "def hello(func):\n",
        "    def wrapper(*args):         # *args to take any variables passed from wrapped function\n",
        "        print(\"Hello World!\")\n",
        "        return func(*args)\n",
        "    return wrapper\n",
        "\n",
        "@hello\n",
        "def square(x):\n",
        "  return x*x\n",
        "\n",
        "print(square(2))\n"
      ],
      "metadata": {
        "colab": {
          "base_uri": "https://localhost:8080/"
        },
        "id": "CLinCUpvUePw",
        "outputId": "434966d1-b086-45c3-9419-bb09ae0e2ec4"
      },
      "execution_count": 37,
      "outputs": [
        {
          "output_type": "stream",
          "name": "stdout",
          "text": [
            "Hello World!\n",
            "4\n"
          ]
        }
      ]
    },
    {
      "cell_type": "markdown",
      "metadata": {
        "id": "T3Lv881hqAxi"
      },
      "source": [
        "8\\. **The Fibonacci sequence (part 2)**\n",
        "\n",
        "Calculate the first 20 numbers of the [Fibonacci sequence](https://en.wikipedia.org/wiki/Fibonacci_number) using a recursive function."
      ]
    },
    {
      "cell_type": "code",
      "source": [
        "def fibo(n):\n",
        "   if n <= 1:\n",
        "       return n\n",
        "   else:\n",
        "       return(fibo(n-1) + fibo(n-2))\n",
        "\n",
        "print([fibo(i) for i in range(20)])"
      ],
      "metadata": {
        "colab": {
          "base_uri": "https://localhost:8080/"
        },
        "id": "sqJhJGinX4GV",
        "outputId": "f0dd6c6c-6fee-47b7-99bc-03a30306ad55"
      },
      "execution_count": 42,
      "outputs": [
        {
          "output_type": "stream",
          "name": "stdout",
          "text": [
            "[0, 1, 1, 2, 3, 5, 8, 13, 21, 34, 55, 89, 144, 233, 377, 610, 987, 1597, 2584, 4181]\n"
          ]
        }
      ]
    },
    {
      "cell_type": "markdown",
      "metadata": {
        "id": "_t0epmkAqAxj"
      },
      "source": [
        "9\\. **The Fibonacci sequence (part 3)**\n",
        "\n",
        "Run both the Fibonacci recursive function from the previous exercise, and the Fibonacci function from 01ex that use only `for` and `while` loops.\n",
        "\n",
        "Measure the execution code of the two functions with `timeit` ([link to the doc](https://docs.python.org/3/library/timeit.html)), for example:\n",
        "\n",
        "`%timeit loopFibonacci(20)`\n",
        "\n",
        "`%timeit recursiveFibonacci(20)`\n",
        "\n",
        "which one is the most efficient implementation? By how much?"
      ]
    },
    {
      "cell_type": "code",
      "source": [
        "# 01 ex\n",
        "def ex1_fibo():\n",
        "  num = 20\n",
        "  n1, n2 = 0, 1\n",
        "  fi_list=[n1, n2]\n",
        "\n",
        "  for i in range(2, num):\n",
        "      n3 = n1 + n2\n",
        "      n1 = n2\n",
        "      n2 = n3\n",
        "      fi_list.append(n3)\n",
        "\n",
        "# 02 ex\n",
        "def ex2_recure_fibo ():\n",
        "  return [fibo(i) for i in range(20)]\n",
        "\n",
        "%timeit ex1_fibo()\n",
        "%timeit ex2_recure_fibo()"
      ],
      "metadata": {
        "colab": {
          "base_uri": "https://localhost:8080/"
        },
        "id": "nJzxLPpdY_2E",
        "outputId": "edb80359-68e8-44b1-8c37-b92153278cc9"
      },
      "execution_count": 46,
      "outputs": [
        {
          "output_type": "stream",
          "name": "stdout",
          "text": [
            "2.24 µs ± 71.7 ns per loop (mean ± std. dev. of 7 runs, 100000 loops each)\n",
            "6.23 ms ± 2.12 ms per loop (mean ± std. dev. of 7 runs, 100 loops each)\n"
          ]
        }
      ]
    },
    {
      "cell_type": "code",
      "source": [
        "time_1 = 2.24*pow(10,-6)*100000\n",
        "time_2 = 6.23*pow(10,-3)*100\n",
        "\n",
        "print('time fibo loop',time_1)\n",
        "print('time fibo recur',time_2)"
      ],
      "metadata": {
        "colab": {
          "base_uri": "https://localhost:8080/"
        },
        "id": "FefuL_2FaU9_",
        "outputId": "da350cb3-5d9d-4f4f-cc1d-7417852f88e4"
      },
      "execution_count": 49,
      "outputs": [
        {
          "output_type": "stream",
          "name": "stdout",
          "text": [
            "time fibo loop 0.224\n",
            "time fibo recur 0.623\n"
          ]
        }
      ]
    },
    {
      "cell_type": "markdown",
      "source": [
        "#answer:\n",
        "we see that ricuresive function is around 3 times slower than loop implementation."
      ],
      "metadata": {
        "id": "iodTi_mSbb9S"
      }
    },
    {
      "cell_type": "markdown",
      "metadata": {
        "id": "iFgpNHbEqAxj"
      },
      "source": [
        "10\\. **Class definition**\n",
        "\n",
        "Define a class `polygon`. The constructor has to take a tuple as input that contains the length of each side. The (unordered) input list does not have to have a fixed length, but should contain at least 3 items.\n",
        "\n",
        "- Create appropriate methods to get and set the length of each side\n",
        "\n",
        "- Create a method `perimeter()` that returns the perimeter of the polygon\n",
        "\n",
        "- Create a method `getOrderedSides(increasing = True)` that returns a tuple containing the length of the sides arranged in increasing or decreasing order, depending on the argument of the method\n",
        "\n",
        "Test the class by creating an instance and calling the `perimeter()` and `getOrderedSides(increasing = True)` methods."
      ]
    },
    {
      "cell_type": "code",
      "source": [
        "class Polygon:\n",
        "    sides:list = []\n",
        "\n",
        "    def __init__(self, sides:tuple):\n",
        "        if(len(sides)<3):\n",
        "          raise ValueError('the input of Polygon constructor should have atleast 3 numbers in a tuple.')\n",
        "        else:\n",
        "          self.sides = list(sides)\n",
        "\n",
        "    def getNthSide(self,n):\n",
        "        if(n > len(self.sides)):\n",
        "          raise ValueError('the input n is bigger than number of sides')\n",
        "        return self.sides[n]\n",
        "\n",
        "    def setNthSide(self,n,x):\n",
        "        if(n > len(self.sides)):\n",
        "          raise ValueError('the input n is bigger than number of sides')\n",
        "        self.sides[n] = x\n",
        "\n",
        "    def perimeter(self):\n",
        "        return sum(self.sides)\n",
        "\n",
        "    def getOrderedSides(self,increasing = True):\n",
        "        self.sides.sort(reverse = increasing == False)\n",
        "        return  tuple(self.sides)\n",
        "\n",
        "\n",
        "poly = Polygon((4,3,6))\n",
        "poly.setNthSide(0,9)\n",
        "print(poly.getNthSide(1))\n",
        "print(poly.perimeter())\n",
        "print(poly.getOrderedSides())"
      ],
      "metadata": {
        "colab": {
          "base_uri": "https://localhost:8080/"
        },
        "id": "UaXEi6efcExI",
        "outputId": "989c7a80-d2c2-4f57-f05c-f010424c1013"
      },
      "execution_count": 76,
      "outputs": [
        {
          "output_type": "stream",
          "name": "stdout",
          "text": [
            "3\n",
            "18\n",
            "(3, 6, 9)\n"
          ]
        }
      ]
    },
    {
      "cell_type": "markdown",
      "metadata": {
        "id": "dpjfjtGbqAxk"
      },
      "source": [
        "11\\. **Class inheritance**\n",
        "\n",
        "Define a class `rectangle` that inherits from `polygon`. Modify the constructor, if necessary, to make sure that the input data is consistent with the geometrical properties of a rectangle.\n",
        "\n",
        "- Create a method `area()` that returns the area of the rectangle.\n",
        "\n",
        "Test the `rectangle` class by creating an instance and passing an appropriate input to the constructor."
      ]
    },
    {
      "cell_type": "code",
      "source": [
        "class Rectangle(Polygon):\n",
        "  def __init__(self, sides:tuple):\n",
        "        if(len(sides)!=2):\n",
        "          raise ValueError('the input of rectangle constructor must have exactly 2 numbers in a tuple.')\n",
        "        else:\n",
        "          self.sides = list(sides)\n",
        "  def area(self):\n",
        "    return self.sides[0]*self.sides[1]\n",
        "\n",
        "rect = Rectangle((2,6))\n",
        "rect.setNthSide(0,10)\n",
        "print(rect.getOrderedSides())\n",
        "print('perimeter: ',rect.perimeter())\n",
        "print('area: ',rect.area())"
      ],
      "metadata": {
        "colab": {
          "base_uri": "https://localhost:8080/"
        },
        "id": "BNlYPImnidGb",
        "outputId": "a93a8d4d-7a1b-438d-f4d7-33bd4aacad40"
      },
      "execution_count": 83,
      "outputs": [
        {
          "output_type": "stream",
          "name": "stdout",
          "text": [
            "(6, 10)\n",
            "perimeter:  16\n",
            "area:  60\n"
          ]
        }
      ]
    }
  ],
  "metadata": {
    "kernelspec": {
      "display_name": "Python 3 (ipykernel)",
      "language": "python",
      "name": "python3"
    },
    "language_info": {
      "codemirror_mode": {
        "name": "ipython",
        "version": 3
      },
      "file_extension": ".py",
      "mimetype": "text/x-python",
      "name": "python",
      "nbconvert_exporter": "python",
      "pygments_lexer": "ipython3",
      "version": "3.10.12"
    },
    "colab": {
      "provenance": []
    }
  },
  "nbformat": 4,
  "nbformat_minor": 0
}